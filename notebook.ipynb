{
  "cells": [
    {
      "cell_type": "code",
      "execution_count": null,
      "metadata": {
        "colab": {
          "base_uri": "https://localhost:8080/"
        },
        "id": "_I25n430Ccuz",
        "outputId": "cfc86024-2026-47ce-b2b6-9d453d03933b"
      },
      "outputs": [],
      "source": [
        "!pip install yt-dlp demucs\n",
        "!pip uninstall torchtext torchvision torchdata -y\n",
        "!pip install torch==1.13.1 torchvision==0.14.1 torchaudio==0.13.1  \n",
        "!pip install git+https://github.com/m-bain/whisperx.git"
      ]
    },
    {
      "cell_type": "code",
      "execution_count": null,
      "metadata": {
        "colab": {
          "base_uri": "https://localhost:8080/"
        },
        "id": "pC1MIhioDLRg",
        "outputId": "daf49c68-f88d-4783-ce85-d1e70757103d"
      },
      "outputs": [],
      "source": [
        "import yt_dlp\n",
        "import whisperx\n",
        "import whisper\n",
        "import torch\n",
        "import wave\n",
        "import locale\n",
        "from yt_karaoke.ass_parser import write_ass_file\n",
        "locale.getpreferredencoding = lambda: \"UTF-8\" # https://github.com/googlecolab/colabtools/issues/3409\n",
        "\n",
        "# Change youtube here\n",
        "YT_ID = 'SWFA0d2vIUk'\n",
        "whisper_model = \"large\"\n",
        "alignment_model = 'WAV2VEC2_ASR_LARGE_LV60K_960H'\n",
        "\n",
        "device = \"cpu\"\n",
        "if torch.cuda.is_available():\n",
        "  device = 'cuda'\n",
        "\n",
        "print(f\"using device={device}\")"
      ]
    },
    {
      "cell_type": "code",
      "execution_count": null,
      "metadata": {
        "colab": {
          "base_uri": "https://localhost:8080/"
        },
        "id": "CFkeBogAEQ7-",
        "outputId": "5fb3c618-b7ef-495e-b81d-46bb653f9839"
      },
      "outputs": [],
      "source": [
        "# Download audio from youtube\n",
        "ydl_opts = {\n",
        "    'format': 'mp3/bestaudio/best',\n",
        "    'outtmpl': 'data/%(id)s.%(ext)s',\n",
        "    'postprocessors': [{\n",
        "        'key': 'FFmpegExtractAudio',\n",
        "        'preferredcodec': 'mp3'\n",
        "    }]\n",
        "}\n",
        "with yt_dlp.YoutubeDL(ydl_opts) as ydl:\n",
        "    output = ydl.download([f\"https://www.youtube.com/watch?v={YT_ID}\"])"
      ]
    },
    {
      "cell_type": "code",
      "execution_count": null,
      "metadata": {
        "colab": {
          "base_uri": "https://localhost:8080/"
        },
        "id": "N4UMP_3tEl-_",
        "outputId": "24c1263b-eef6-4312-ed60-b7ebed26046c"
      },
      "outputs": [],
      "source": [
        "# Separate vocals from track\n",
        "cmd = f\"demucs --device={device} {'--shifts=10' if device == 'cuda' else ''} --two-stems=vocals --out=data/separated/{YT_ID} data/{YT_ID}.mp3\"\n",
        "!{cmd}"
      ]
    },
    {
      "cell_type": "code",
      "execution_count": null,
      "metadata": {
        "colab": {
          "base_uri": "https://localhost:8080/"
        },
        "id": "qCshK4uaH1RR",
        "outputId": "e73a4b8e-60c3-4bf0-9011-366eb18c6a3e"
      },
      "outputs": [],
      "source": [
        "# # Transcribe with Whisper\n",
        "separated_path = f\"/content/data/separated/{YT_ID}/htdemucs/{YT_ID}\"\n",
        "audio_file = f\"{separated_path}/vocals.wav\"\n",
        "\n",
        "model = whisper.load_model(whisper_model, device)\n",
        "result = model.transcribe(audio_file)\n",
        "\n",
        "# Realign with Whisperx\n",
        "model_a, metadata = whisperx.load_align_model(language_code=result[\"language\"], device=device, model_name=alignment_model)\n",
        "transcript = whisperx.align(result[\"segments\"], model_a, metadata, audio_file, device)"
      ]
    },
    {
      "cell_type": "code",
      "execution_count": null,
      "metadata": {
        "id": "HdjObpj-mjlp"
      },
      "outputs": [],
      "source": [
        "# Write the ass file\n",
        "\n",
        "subtitles_path = f\"{YT_ID}.ass\"\n",
        "write_ass_file(transcript, subtitles_path)"
      ]
    },
    {
      "cell_type": "code",
      "execution_count": null,
      "metadata": {
        "colab": {
          "base_uri": "https://localhost:8080/"
        },
        "id": "cHlEPFfpL0MH",
        "outputId": "c9efc603-3e7f-49a4-debc-09ae2faec0e4"
      },
      "outputs": [],
      "source": [
        "# Encode karaoke video\n",
        "instrumental_path = f\"{separated_path}/no_vocals.wav\"\n",
        "with wave.open(instrumental_path, 'r') as f:\n",
        "    frames = f.getnframes()\n",
        "    rate = f.getframerate()\n",
        "    duration = round(frames / float(rate), 2)\n",
        "\n",
        "cmd = f\"ffmpeg -y -f lavfi -i color=size=1280x720:duration={duration}:rate=24:color=black -i {instrumental_path} -vf \\\"ass={subtitles_path}\\\" -shortest -c:v libx264 -c:a aac -b:a 192k karaoke.mp4\"\n",
        "!{cmd}\n",
        "\n",
        "print(\"karaoke.mp4 ready!\")"
      ]
    }
  ],
  "metadata": {
    "accelerator": "GPU",
    "colab": {
      "provenance": []
    },
    "gpuClass": "standard",
    "kernelspec": {
      "display_name": "Python 3",
      "name": "python3"
    },
    "language_info": {
      "name": "python",
      "version": "3.10.10"
    }
  },
  "nbformat": 4,
  "nbformat_minor": 0
}
